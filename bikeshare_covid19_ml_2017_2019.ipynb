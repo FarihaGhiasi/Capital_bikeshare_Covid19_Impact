{
 "cells": [
  {
   "attachments": {},
   "cell_type": "markdown",
   "metadata": {},
   "source": [
    "**Time Series Forecasting**"
   ]
  },
  {
   "attachments": {},
   "cell_type": "markdown",
   "metadata": {},
   "source": [
    "The goal is to predict future values of a time series based on its past behaviour. \n",
    "I want to predict what the demand for bike rentals would have been in 2020 if there had been no COVID-19 pandemic. In order to achieve this goal I am using data from 2017 and 2018 to train the machine and then data from 2019 to test it, this will help us to find best model with high accuracy. Using that model we can predict 2020."
   ]
  },
  {
   "cell_type": "code",
   "execution_count": 1,
   "metadata": {},
   "outputs": [],
   "source": [
    "import pandas as pd\n",
    "import matplotlib.pyplot as plt\n",
    "import seaborn as sns\n",
    "import numpy as np"
   ]
  },
  {
   "cell_type": "code",
   "execution_count": 2,
   "metadata": {},
   "outputs": [
    {
     "name": "stdout",
     "output_type": "stream",
     "text": [
      "F:\\DataSciCAB\\DataSci\\Bike\\Bike-DS\\cov19\\2017Q1-capitalbikeshare-tripdata.csv\n",
      "F:\\DataSciCAB\\DataSci\\Bike\\Bike-DS\\cov19\\2017Q2-capitalbikeshare-tripdata.csv\n",
      "F:\\DataSciCAB\\DataSci\\Bike\\Bike-DS\\cov19\\2017Q3-capitalbikeshare-tripdata.csv\n",
      "F:\\DataSciCAB\\DataSci\\Bike\\Bike-DS\\cov19\\2017Q4-capitalbikeshare-tripdata.csv\n",
      "F:\\DataSciCAB\\DataSci\\Bike\\Bike-DS\\cov19\\201801_capitalbikeshare_tripdata.csv\n",
      "F:\\DataSciCAB\\DataSci\\Bike\\Bike-DS\\cov19\\201802-capitalbikeshare-tripdata.csv\n",
      "F:\\DataSciCAB\\DataSci\\Bike\\Bike-DS\\cov19\\201803-capitalbikeshare-tripdata.csv\n",
      "F:\\DataSciCAB\\DataSci\\Bike\\Bike-DS\\cov19\\201804-capitalbikeshare-tripdata.csv\n",
      "F:\\DataSciCAB\\DataSci\\Bike\\Bike-DS\\cov19\\201805-capitalbikeshare-tripdata.csv\n",
      "F:\\DataSciCAB\\DataSci\\Bike\\Bike-DS\\cov19\\201806-capitalbikeshare-tripdata.csv\n",
      "F:\\DataSciCAB\\DataSci\\Bike\\Bike-DS\\cov19\\201807-capitalbikeshare-tripdata.csv\n",
      "F:\\DataSciCAB\\DataSci\\Bike\\Bike-DS\\cov19\\201808-capitalbikeshare-tripdata.csv\n",
      "F:\\DataSciCAB\\DataSci\\Bike\\Bike-DS\\cov19\\201809-capitalbikeshare-tripdata.csv\n",
      "F:\\DataSciCAB\\DataSci\\Bike\\Bike-DS\\cov19\\201810-capitalbikeshare-tripdata.csv\n",
      "F:\\DataSciCAB\\DataSci\\Bike\\Bike-DS\\cov19\\201811-capitalbikeshare-tripdata.csv\n",
      "F:\\DataSciCAB\\DataSci\\Bike\\Bike-DS\\cov19\\201812-capitalbikeshare-tripdata.csv\n",
      "F:\\DataSciCAB\\DataSci\\Bike\\Bike-DS\\cov19\\201901-capitalbikeshare-tripdata.csv\n",
      "F:\\DataSciCAB\\DataSci\\Bike\\Bike-DS\\cov19\\201902-capitalbikeshare-tripdata.csv\n",
      "F:\\DataSciCAB\\DataSci\\Bike\\Bike-DS\\cov19\\201903.csv\n",
      "F:\\DataSciCAB\\DataSci\\Bike\\Bike-DS\\cov19\\201904.csv\n",
      "F:\\DataSciCAB\\DataSci\\Bike\\Bike-DS\\cov19\\201905.csv\n",
      "F:\\DataSciCAB\\DataSci\\Bike\\Bike-DS\\cov19\\201906-capitalbikeshare-tripdata.csv\n",
      "F:\\DataSciCAB\\DataSci\\Bike\\Bike-DS\\cov19\\201907-capitalbikeshare-tripdata.csv\n",
      "F:\\DataSciCAB\\DataSci\\Bike\\Bike-DS\\cov19\\201908-capitalbikeshare-tripdata.csv\n",
      "F:\\DataSciCAB\\DataSci\\Bike\\Bike-DS\\cov19\\201909-capitalbikeshare-tripdata.csv\n",
      "F:\\DataSciCAB\\DataSci\\Bike\\Bike-DS\\cov19\\201910-capitalbikeshare-tripdata.csv\n",
      "F:\\DataSciCAB\\DataSci\\Bike\\Bike-DS\\cov19\\201911-capitalbikeshare-tripdata.csv\n",
      "F:\\DataSciCAB\\DataSci\\Bike\\Bike-DS\\cov19\\201912-capitalbikeshare-tripdata.csv\n"
     ]
    }
   ],
   "source": [
    "import glob\n",
    "\n",
    "# Get a list of all CSV files in the directory\n",
    "file_list = glob.glob('F:\\DataSciCAB\\DataSci\\Bike\\Bike-DS\\cov19\\*.csv')\n",
    "\n",
    "\n",
    "# Create an empty list to hold the DataFrames\n",
    "df_list = []\n",
    "\n",
    "# Loop through the CSV files and read them into DataFrames\n",
    "for file in file_list:\n",
    "    # Check if the file name contains the years 2017, 2018, or 2019\n",
    "    if  '2017' in file or '2018' in file or '2019' in file:\n",
    "        # Read the CSV file into a DataFrame and rename the columns\n",
    "        print(file)\n",
    "        df = pd.read_csv(file)\n",
    "        df = df.rename(columns={'ride_id': 'Ride ID', 'rideable_type': 'Rideable Type',\n",
    "                                'started_at': 'Start date', 'ended_at': 'End date',\n",
    "                                'start_station_name': 'Start station', 'start_station_id': 'Start station number',\n",
    "                                'end_station_name': 'End station', 'end_station_id': 'End station number',\n",
    "                                'start_lat': 'Start station latitude', 'start_lng': 'Start station longitude',\n",
    "                                'end_lat': 'End station latitude', 'end_lng': 'End station longitude',\n",
    "                                'Duration': 'Duration (seconds)', 'Bike number': 'Bike Number',\n",
    "                                'member_casual': 'Member type'})\n",
    "        #df = df[['Start date', 'End date', 'Member Type']]  # Select only the columns you need\n",
    "        df_list.append(df)\n",
    "\n",
    "# Concatenate the DataFrames\n",
    "df = pd.concat(df_list, ignore_index=True)"
   ]
  },
  {
   "attachments": {},
   "cell_type": "markdown",
   "metadata": {},
   "source": [
    "step 1: prepare the data "
   ]
  },
  {
   "cell_type": "code",
   "execution_count": 3,
   "metadata": {},
   "outputs": [
    {
     "data": {
      "text/plain": [
       "(10698878, 9)"
      ]
     },
     "execution_count": 3,
     "metadata": {},
     "output_type": "execute_result"
    }
   ],
   "source": [
    "df.shape"
   ]
  },
  {
   "cell_type": "code",
   "execution_count": 4,
   "metadata": {},
   "outputs": [
    {
     "data": {
      "text/html": [
       "<div>\n",
       "<style scoped>\n",
       "    .dataframe tbody tr th:only-of-type {\n",
       "        vertical-align: middle;\n",
       "    }\n",
       "\n",
       "    .dataframe tbody tr th {\n",
       "        vertical-align: top;\n",
       "    }\n",
       "\n",
       "    .dataframe thead th {\n",
       "        text-align: right;\n",
       "    }\n",
       "</style>\n",
       "<table border=\"1\" class=\"dataframe\">\n",
       "  <thead>\n",
       "    <tr style=\"text-align: right;\">\n",
       "      <th></th>\n",
       "      <th>Duration (seconds)</th>\n",
       "      <th>Start date</th>\n",
       "      <th>End date</th>\n",
       "      <th>Start station number</th>\n",
       "      <th>Start station</th>\n",
       "      <th>End station number</th>\n",
       "      <th>End station</th>\n",
       "      <th>Bike Number</th>\n",
       "      <th>Member type</th>\n",
       "    </tr>\n",
       "  </thead>\n",
       "  <tbody>\n",
       "    <tr>\n",
       "      <th>7141608</th>\n",
       "      <td>790</td>\n",
       "      <td>2018-12-01 00:00:44</td>\n",
       "      <td>2018-12-01 00:13:54</td>\n",
       "      <td>31203</td>\n",
       "      <td>14th &amp; Rhode Island Ave NW</td>\n",
       "      <td>31116</td>\n",
       "      <td>California St &amp; Florida Ave NW</td>\n",
       "      <td>W21477</td>\n",
       "      <td>Member</td>\n",
       "    </tr>\n",
       "    <tr>\n",
       "      <th>7141609</th>\n",
       "      <td>771</td>\n",
       "      <td>2018-12-01 00:00:55</td>\n",
       "      <td>2018-12-01 00:13:46</td>\n",
       "      <td>31203</td>\n",
       "      <td>14th &amp; Rhode Island Ave NW</td>\n",
       "      <td>31116</td>\n",
       "      <td>California St &amp; Florida Ave NW</td>\n",
       "      <td>W22810</td>\n",
       "      <td>Member</td>\n",
       "    </tr>\n",
       "    <tr>\n",
       "      <th>7141610</th>\n",
       "      <td>775</td>\n",
       "      <td>2018-12-01 00:00:55</td>\n",
       "      <td>2018-12-01 00:13:51</td>\n",
       "      <td>31203</td>\n",
       "      <td>14th &amp; Rhode Island Ave NW</td>\n",
       "      <td>31116</td>\n",
       "      <td>California St &amp; Florida Ave NW</td>\n",
       "      <td>W21144</td>\n",
       "      <td>Member</td>\n",
       "    </tr>\n",
       "    <tr>\n",
       "      <th>7141611</th>\n",
       "      <td>750</td>\n",
       "      <td>2018-12-01 00:01:08</td>\n",
       "      <td>2018-12-01 00:13:39</td>\n",
       "      <td>31203</td>\n",
       "      <td>14th &amp; Rhode Island Ave NW</td>\n",
       "      <td>31116</td>\n",
       "      <td>California St &amp; Florida Ave NW</td>\n",
       "      <td>W23321</td>\n",
       "      <td>Member</td>\n",
       "    </tr>\n",
       "    <tr>\n",
       "      <th>7141612</th>\n",
       "      <td>146</td>\n",
       "      <td>2018-12-01 00:02:45</td>\n",
       "      <td>2018-12-01 00:05:11</td>\n",
       "      <td>31124</td>\n",
       "      <td>14th &amp; Irving St NW</td>\n",
       "      <td>31102</td>\n",
       "      <td>11th &amp; Kenyon St NW</td>\n",
       "      <td>W22304</td>\n",
       "      <td>Member</td>\n",
       "    </tr>\n",
       "    <tr>\n",
       "      <th>...</th>\n",
       "      <td>...</td>\n",
       "      <td>...</td>\n",
       "      <td>...</td>\n",
       "      <td>...</td>\n",
       "      <td>...</td>\n",
       "      <td>...</td>\n",
       "      <td>...</td>\n",
       "      <td>...</td>\n",
       "      <td>...</td>\n",
       "    </tr>\n",
       "    <tr>\n",
       "      <th>7160322</th>\n",
       "      <td>434</td>\n",
       "      <td>2018-12-04 10:24:35</td>\n",
       "      <td>2018-12-04 10:31:50</td>\n",
       "      <td>31638</td>\n",
       "      <td>1st &amp; H St NW</td>\n",
       "      <td>31603</td>\n",
       "      <td>1st &amp; M St NE</td>\n",
       "      <td>W23394</td>\n",
       "      <td>Member</td>\n",
       "    </tr>\n",
       "    <tr>\n",
       "      <th>7160324</th>\n",
       "      <td>412</td>\n",
       "      <td>2018-12-04 10:24:54</td>\n",
       "      <td>2018-12-04 10:31:46</td>\n",
       "      <td>31638</td>\n",
       "      <td>1st &amp; H St NW</td>\n",
       "      <td>31603</td>\n",
       "      <td>1st &amp; M St NE</td>\n",
       "      <td>W21044</td>\n",
       "      <td>Member</td>\n",
       "    </tr>\n",
       "    <tr>\n",
       "      <th>7160325</th>\n",
       "      <td>461</td>\n",
       "      <td>2018-12-04 10:24:56</td>\n",
       "      <td>2018-12-04 10:32:38</td>\n",
       "      <td>31282</td>\n",
       "      <td>16th &amp; R St NW</td>\n",
       "      <td>31117</td>\n",
       "      <td>15th &amp; Euclid St  NW</td>\n",
       "      <td>E00144</td>\n",
       "      <td>Member</td>\n",
       "    </tr>\n",
       "    <tr>\n",
       "      <th>7160326</th>\n",
       "      <td>129</td>\n",
       "      <td>2018-12-04 10:24:57</td>\n",
       "      <td>2018-12-04 10:27:07</td>\n",
       "      <td>31415</td>\n",
       "      <td>Georgia Ave &amp; Kennedy St NW</td>\n",
       "      <td>31407</td>\n",
       "      <td>14th St &amp; Colorado Ave NW</td>\n",
       "      <td>W01220</td>\n",
       "      <td>Member</td>\n",
       "    </tr>\n",
       "    <tr>\n",
       "      <th>7160335</th>\n",
       "      <td>263</td>\n",
       "      <td>2018-12-04 10:28:27</td>\n",
       "      <td>2018-12-04 10:32:50</td>\n",
       "      <td>31016</td>\n",
       "      <td>Clarendon Blvd &amp; Pierce St</td>\n",
       "      <td>31014</td>\n",
       "      <td>Lynn &amp; 19th St North</td>\n",
       "      <td>W20983</td>\n",
       "      <td>Member</td>\n",
       "    </tr>\n",
       "  </tbody>\n",
       "</table>\n",
       "<p>18441 rows × 9 columns</p>\n",
       "</div>"
      ],
      "text/plain": [
       "         Duration (seconds)           Start date             End date  \\\n",
       "7141608                 790  2018-12-01 00:00:44  2018-12-01 00:13:54   \n",
       "7141609                 771  2018-12-01 00:00:55  2018-12-01 00:13:46   \n",
       "7141610                 775  2018-12-01 00:00:55  2018-12-01 00:13:51   \n",
       "7141611                 750  2018-12-01 00:01:08  2018-12-01 00:13:39   \n",
       "7141612                 146  2018-12-01 00:02:45  2018-12-01 00:05:11   \n",
       "...                     ...                  ...                  ...   \n",
       "7160322                 434  2018-12-04 10:24:35  2018-12-04 10:31:50   \n",
       "7160324                 412  2018-12-04 10:24:54  2018-12-04 10:31:46   \n",
       "7160325                 461  2018-12-04 10:24:56  2018-12-04 10:32:38   \n",
       "7160326                 129  2018-12-04 10:24:57  2018-12-04 10:27:07   \n",
       "7160335                 263  2018-12-04 10:28:27  2018-12-04 10:32:50   \n",
       "\n",
       "         Start station number                Start station  \\\n",
       "7141608                 31203   14th & Rhode Island Ave NW   \n",
       "7141609                 31203   14th & Rhode Island Ave NW   \n",
       "7141610                 31203   14th & Rhode Island Ave NW   \n",
       "7141611                 31203   14th & Rhode Island Ave NW   \n",
       "7141612                 31124          14th & Irving St NW   \n",
       "...                       ...                          ...   \n",
       "7160322                 31638                1st & H St NW   \n",
       "7160324                 31638                1st & H St NW   \n",
       "7160325                 31282               16th & R St NW   \n",
       "7160326                 31415  Georgia Ave & Kennedy St NW   \n",
       "7160335                 31016   Clarendon Blvd & Pierce St   \n",
       "\n",
       "         End station number                     End station Bike Number  \\\n",
       "7141608               31116  California St & Florida Ave NW      W21477   \n",
       "7141609               31116  California St & Florida Ave NW      W22810   \n",
       "7141610               31116  California St & Florida Ave NW      W21144   \n",
       "7141611               31116  California St & Florida Ave NW      W23321   \n",
       "7141612               31102             11th & Kenyon St NW      W22304   \n",
       "...                     ...                             ...         ...   \n",
       "7160322               31603                   1st & M St NE      W23394   \n",
       "7160324               31603                   1st & M St NE      W21044   \n",
       "7160325               31117            15th & Euclid St  NW      E00144   \n",
       "7160326               31407       14th St & Colorado Ave NW      W01220   \n",
       "7160335               31014            Lynn & 19th St North      W20983   \n",
       "\n",
       "        Member type  \n",
       "7141608      Member  \n",
       "7141609      Member  \n",
       "7141610      Member  \n",
       "7141611      Member  \n",
       "7141612      Member  \n",
       "...             ...  \n",
       "7160322      Member  \n",
       "7160324      Member  \n",
       "7160325      Member  \n",
       "7160326      Member  \n",
       "7160335      Member  \n",
       "\n",
       "[18441 rows x 9 columns]"
      ]
     },
     "execution_count": 4,
     "metadata": {},
     "output_type": "execute_result"
    }
   ],
   "source": [
    "#to check for duplicated values \n",
    "duplicated_mask = df.duplicated(keep= 'first')\n",
    "duplicated_rows = df[duplicated_mask]\n",
    "duplicated_rows"
   ]
  },
  {
   "cell_type": "code",
   "execution_count": 5,
   "metadata": {},
   "outputs": [],
   "source": [
    "#we have 18441 duplicated rows so to get unique rows we can drop them\n",
    "df = df.drop_duplicates(keep='first')"
   ]
  },
  {
   "cell_type": "code",
   "execution_count": 6,
   "metadata": {},
   "outputs": [],
   "source": [
    "#I am chosing these two features to go with them in machine learning step \n",
    "df = df[['Start date', 'Member type']]"
   ]
  },
  {
   "cell_type": "code",
   "execution_count": 7,
   "metadata": {},
   "outputs": [
    {
     "data": {
      "text/html": [
       "<div>\n",
       "<style scoped>\n",
       "    .dataframe tbody tr th:only-of-type {\n",
       "        vertical-align: middle;\n",
       "    }\n",
       "\n",
       "    .dataframe tbody tr th {\n",
       "        vertical-align: top;\n",
       "    }\n",
       "\n",
       "    .dataframe thead th {\n",
       "        text-align: right;\n",
       "    }\n",
       "</style>\n",
       "<table border=\"1\" class=\"dataframe\">\n",
       "  <thead>\n",
       "    <tr style=\"text-align: right;\">\n",
       "      <th></th>\n",
       "      <th>Start date</th>\n",
       "      <th>Member type</th>\n",
       "    </tr>\n",
       "  </thead>\n",
       "  <tbody>\n",
       "    <tr>\n",
       "      <th>0</th>\n",
       "      <td>2017-01-01 00:00:41</td>\n",
       "      <td>Member</td>\n",
       "    </tr>\n",
       "    <tr>\n",
       "      <th>1</th>\n",
       "      <td>2017-01-01 00:06:53</td>\n",
       "      <td>Casual</td>\n",
       "    </tr>\n",
       "    <tr>\n",
       "      <th>2</th>\n",
       "      <td>2017-01-01 00:07:10</td>\n",
       "      <td>Casual</td>\n",
       "    </tr>\n",
       "    <tr>\n",
       "      <th>3</th>\n",
       "      <td>2017-01-01 00:07:22</td>\n",
       "      <td>Casual</td>\n",
       "    </tr>\n",
       "    <tr>\n",
       "      <th>4</th>\n",
       "      <td>2017-01-01 00:07:36</td>\n",
       "      <td>Casual</td>\n",
       "    </tr>\n",
       "  </tbody>\n",
       "</table>\n",
       "</div>"
      ],
      "text/plain": [
       "            Start date Member type\n",
       "0  2017-01-01 00:00:41      Member\n",
       "1  2017-01-01 00:06:53      Casual\n",
       "2  2017-01-01 00:07:10      Casual\n",
       "3  2017-01-01 00:07:22      Casual\n",
       "4  2017-01-01 00:07:36      Casual"
      ]
     },
     "execution_count": 7,
     "metadata": {},
     "output_type": "execute_result"
    }
   ],
   "source": [
    "df.head()"
   ]
  },
  {
   "cell_type": "code",
   "execution_count": 8,
   "metadata": {},
   "outputs": [
    {
     "data": {
      "text/html": [
       "<div>\n",
       "<style scoped>\n",
       "    .dataframe tbody tr th:only-of-type {\n",
       "        vertical-align: middle;\n",
       "    }\n",
       "\n",
       "    .dataframe tbody tr th {\n",
       "        vertical-align: top;\n",
       "    }\n",
       "\n",
       "    .dataframe thead th {\n",
       "        text-align: right;\n",
       "    }\n",
       "</style>\n",
       "<table border=\"1\" class=\"dataframe\">\n",
       "  <thead>\n",
       "    <tr style=\"text-align: right;\">\n",
       "      <th></th>\n",
       "      <th>start_date</th>\n",
       "      <th>member_type</th>\n",
       "    </tr>\n",
       "  </thead>\n",
       "  <tbody>\n",
       "  </tbody>\n",
       "</table>\n",
       "</div>"
      ],
      "text/plain": [
       "Empty DataFrame\n",
       "Columns: [start_date, member_type]\n",
       "Index: []"
      ]
     },
     "execution_count": 8,
     "metadata": {},
     "output_type": "execute_result"
    }
   ],
   "source": [
    "#rename columns in bikes ds\n",
    "for col in df.columns:\n",
    "    df.rename(columns={col:col.lower().replace(\" \",\"_\")},inplace=True)\n",
    "\n",
    "df.head(0)"
   ]
  },
  {
   "cell_type": "code",
   "execution_count": 9,
   "metadata": {},
   "outputs": [
    {
     "data": {
      "text/html": [
       "<div>\n",
       "<style scoped>\n",
       "    .dataframe tbody tr th:only-of-type {\n",
       "        vertical-align: middle;\n",
       "    }\n",
       "\n",
       "    .dataframe tbody tr th {\n",
       "        vertical-align: top;\n",
       "    }\n",
       "\n",
       "    .dataframe thead th {\n",
       "        text-align: right;\n",
       "    }\n",
       "</style>\n",
       "<table border=\"1\" class=\"dataframe\">\n",
       "  <thead>\n",
       "    <tr style=\"text-align: right;\">\n",
       "      <th></th>\n",
       "      <th>start_date</th>\n",
       "      <th>member_type</th>\n",
       "    </tr>\n",
       "  </thead>\n",
       "  <tbody>\n",
       "    <tr>\n",
       "      <th>0</th>\n",
       "      <td>2017-01-01 00:00:41</td>\n",
       "      <td>Member</td>\n",
       "    </tr>\n",
       "    <tr>\n",
       "      <th>1</th>\n",
       "      <td>2017-01-01 00:06:53</td>\n",
       "      <td>Casual</td>\n",
       "    </tr>\n",
       "    <tr>\n",
       "      <th>2</th>\n",
       "      <td>2017-01-01 00:07:10</td>\n",
       "      <td>Casual</td>\n",
       "    </tr>\n",
       "    <tr>\n",
       "      <th>3</th>\n",
       "      <td>2017-01-01 00:07:22</td>\n",
       "      <td>Casual</td>\n",
       "    </tr>\n",
       "    <tr>\n",
       "      <th>4</th>\n",
       "      <td>2017-01-01 00:07:36</td>\n",
       "      <td>Casual</td>\n",
       "    </tr>\n",
       "  </tbody>\n",
       "</table>\n",
       "</div>"
      ],
      "text/plain": [
       "            start_date member_type\n",
       "0  2017-01-01 00:00:41      Member\n",
       "1  2017-01-01 00:06:53      Casual\n",
       "2  2017-01-01 00:07:10      Casual\n",
       "3  2017-01-01 00:07:22      Casual\n",
       "4  2017-01-01 00:07:36      Casual"
      ]
     },
     "execution_count": 9,
     "metadata": {},
     "output_type": "execute_result"
    }
   ],
   "source": [
    "df.head()"
   ]
  },
  {
   "cell_type": "code",
   "execution_count": 10,
   "metadata": {},
   "outputs": [
    {
     "data": {
      "text/html": [
       "<div>\n",
       "<style scoped>\n",
       "    .dataframe tbody tr th:only-of-type {\n",
       "        vertical-align: middle;\n",
       "    }\n",
       "\n",
       "    .dataframe tbody tr th {\n",
       "        vertical-align: top;\n",
       "    }\n",
       "\n",
       "    .dataframe thead th {\n",
       "        text-align: right;\n",
       "    }\n",
       "</style>\n",
       "<table border=\"1\" class=\"dataframe\">\n",
       "  <thead>\n",
       "    <tr style=\"text-align: right;\">\n",
       "      <th></th>\n",
       "      <th>start_date</th>\n",
       "      <th>member_type</th>\n",
       "    </tr>\n",
       "  </thead>\n",
       "  <tbody>\n",
       "    <tr>\n",
       "      <th>0</th>\n",
       "      <td>2017-01-01 00:00:41</td>\n",
       "      <td>Member</td>\n",
       "    </tr>\n",
       "    <tr>\n",
       "      <th>1</th>\n",
       "      <td>2017-01-01 00:06:53</td>\n",
       "      <td>Casual</td>\n",
       "    </tr>\n",
       "    <tr>\n",
       "      <th>2</th>\n",
       "      <td>2017-01-01 00:07:10</td>\n",
       "      <td>Casual</td>\n",
       "    </tr>\n",
       "    <tr>\n",
       "      <th>3</th>\n",
       "      <td>2017-01-01 00:07:22</td>\n",
       "      <td>Casual</td>\n",
       "    </tr>\n",
       "    <tr>\n",
       "      <th>4</th>\n",
       "      <td>2017-01-01 00:07:36</td>\n",
       "      <td>Casual</td>\n",
       "    </tr>\n",
       "  </tbody>\n",
       "</table>\n",
       "</div>"
      ],
      "text/plain": [
       "           start_date member_type\n",
       "0 2017-01-01 00:00:41      Member\n",
       "1 2017-01-01 00:06:53      Casual\n",
       "2 2017-01-01 00:07:10      Casual\n",
       "3 2017-01-01 00:07:22      Casual\n",
       "4 2017-01-01 00:07:36      Casual"
      ]
     },
     "execution_count": 10,
     "metadata": {},
     "output_type": "execute_result"
    }
   ],
   "source": [
    "#to convert the type from object to datetime\n",
    "df['start_date'] = pd.to_datetime(df['start_date'])\n",
    "df.head()"
   ]
  },
  {
   "cell_type": "code",
   "execution_count": 11,
   "metadata": {},
   "outputs": [],
   "source": [
    "#some of values in this column are with capital letter started and some are with lower letter to fix it  \n",
    "df['member_type'] = df['member_type'].replace({'Member': 'member', 'Casual': 'casual'})"
   ]
  },
  {
   "cell_type": "code",
   "execution_count": 12,
   "metadata": {},
   "outputs": [
    {
     "data": {
      "text/html": [
       "<div>\n",
       "<style scoped>\n",
       "    .dataframe tbody tr th:only-of-type {\n",
       "        vertical-align: middle;\n",
       "    }\n",
       "\n",
       "    .dataframe tbody tr th {\n",
       "        vertical-align: top;\n",
       "    }\n",
       "\n",
       "    .dataframe thead th {\n",
       "        text-align: right;\n",
       "    }\n",
       "</style>\n",
       "<table border=\"1\" class=\"dataframe\">\n",
       "  <thead>\n",
       "    <tr style=\"text-align: right;\">\n",
       "      <th></th>\n",
       "      <th>start_date</th>\n",
       "      <th>casual_cnt</th>\n",
       "    </tr>\n",
       "  </thead>\n",
       "  <tbody>\n",
       "    <tr>\n",
       "      <th>0</th>\n",
       "      <td>2017-01-01</td>\n",
       "      <td>21870</td>\n",
       "    </tr>\n",
       "    <tr>\n",
       "      <th>1</th>\n",
       "      <td>2017-02-01</td>\n",
       "      <td>44022</td>\n",
       "    </tr>\n",
       "    <tr>\n",
       "      <th>2</th>\n",
       "      <td>2017-03-01</td>\n",
       "      <td>52184</td>\n",
       "    </tr>\n",
       "    <tr>\n",
       "      <th>3</th>\n",
       "      <td>2017-04-01</td>\n",
       "      <td>124240</td>\n",
       "    </tr>\n",
       "    <tr>\n",
       "      <th>4</th>\n",
       "      <td>2017-05-01</td>\n",
       "      <td>97763</td>\n",
       "    </tr>\n",
       "  </tbody>\n",
       "</table>\n",
       "</div>"
      ],
      "text/plain": [
       "  start_date  casual_cnt\n",
       "0 2017-01-01       21870\n",
       "1 2017-02-01       44022\n",
       "2 2017-03-01       52184\n",
       "3 2017-04-01      124240\n",
       "4 2017-05-01       97763"
      ]
     },
     "execution_count": 12,
     "metadata": {},
     "output_type": "execute_result"
    }
   ],
   "source": [
    "#to get the total number of rides per day I am going to use member type \n",
    "casual = df[df['member_type'] == 'casual'].groupby(pd.Grouper(key = 'start_date', freq = 'MS')).count().rename(columns={'member_type': 'casual_cnt'}).reset_index()\n",
    "casual = casual[['start_date', \"casual_cnt\"]]\n",
    "casual.head()"
   ]
  },
  {
   "cell_type": "code",
   "execution_count": 13,
   "metadata": {},
   "outputs": [
    {
     "data": {
      "text/html": [
       "<div>\n",
       "<style scoped>\n",
       "    .dataframe tbody tr th:only-of-type {\n",
       "        vertical-align: middle;\n",
       "    }\n",
       "\n",
       "    .dataframe tbody tr th {\n",
       "        vertical-align: top;\n",
       "    }\n",
       "\n",
       "    .dataframe thead th {\n",
       "        text-align: right;\n",
       "    }\n",
       "</style>\n",
       "<table border=\"1\" class=\"dataframe\">\n",
       "  <thead>\n",
       "    <tr style=\"text-align: right;\">\n",
       "      <th></th>\n",
       "      <th>start_date</th>\n",
       "      <th>member_cnt</th>\n",
       "    </tr>\n",
       "  </thead>\n",
       "  <tbody>\n",
       "    <tr>\n",
       "      <th>0</th>\n",
       "      <td>2017-01-01</td>\n",
       "      <td>152934</td>\n",
       "    </tr>\n",
       "    <tr>\n",
       "      <th>1</th>\n",
       "      <td>2017-02-01</td>\n",
       "      <td>182281</td>\n",
       "    </tr>\n",
       "    <tr>\n",
       "      <th>2</th>\n",
       "      <td>2017-03-01</td>\n",
       "      <td>193219</td>\n",
       "    </tr>\n",
       "    <tr>\n",
       "      <th>3</th>\n",
       "      <td>2017-04-01</td>\n",
       "      <td>241750</td>\n",
       "    </tr>\n",
       "    <tr>\n",
       "      <th>4</th>\n",
       "      <td>2017-05-01</td>\n",
       "      <td>241914</td>\n",
       "    </tr>\n",
       "  </tbody>\n",
       "</table>\n",
       "</div>"
      ],
      "text/plain": [
       "  start_date  member_cnt\n",
       "0 2017-01-01      152934\n",
       "1 2017-02-01      182281\n",
       "2 2017-03-01      193219\n",
       "3 2017-04-01      241750\n",
       "4 2017-05-01      241914"
      ]
     },
     "execution_count": 13,
     "metadata": {},
     "output_type": "execute_result"
    }
   ],
   "source": [
    "#to get the total number of rides per day I am going to use member type \n",
    "member = df[df['member_type'] == 'member'].groupby(pd.Grouper(key = 'start_date', freq = 'MS')).count().rename(columns={'member_type': 'member_cnt'}).reset_index()\n",
    "member = member[['start_date', 'member_cnt']]\n",
    "member.head()"
   ]
  },
  {
   "cell_type": "code",
   "execution_count": 14,
   "metadata": {},
   "outputs": [
    {
     "data": {
      "text/html": [
       "<div>\n",
       "<style scoped>\n",
       "    .dataframe tbody tr th:only-of-type {\n",
       "        vertical-align: middle;\n",
       "    }\n",
       "\n",
       "    .dataframe tbody tr th {\n",
       "        vertical-align: top;\n",
       "    }\n",
       "\n",
       "    .dataframe thead th {\n",
       "        text-align: right;\n",
       "    }\n",
       "</style>\n",
       "<table border=\"1\" class=\"dataframe\">\n",
       "  <thead>\n",
       "    <tr style=\"text-align: right;\">\n",
       "      <th></th>\n",
       "      <th>start_date</th>\n",
       "      <th>member_cnt</th>\n",
       "      <th>casual_cnt</th>\n",
       "    </tr>\n",
       "  </thead>\n",
       "  <tbody>\n",
       "    <tr>\n",
       "      <th>0</th>\n",
       "      <td>2017-01-01</td>\n",
       "      <td>152934</td>\n",
       "      <td>21870</td>\n",
       "    </tr>\n",
       "    <tr>\n",
       "      <th>1</th>\n",
       "      <td>2017-02-01</td>\n",
       "      <td>182281</td>\n",
       "      <td>44022</td>\n",
       "    </tr>\n",
       "    <tr>\n",
       "      <th>2</th>\n",
       "      <td>2017-03-01</td>\n",
       "      <td>193219</td>\n",
       "      <td>52184</td>\n",
       "    </tr>\n",
       "    <tr>\n",
       "      <th>3</th>\n",
       "      <td>2017-04-01</td>\n",
       "      <td>241750</td>\n",
       "      <td>124240</td>\n",
       "    </tr>\n",
       "    <tr>\n",
       "      <th>4</th>\n",
       "      <td>2017-05-01</td>\n",
       "      <td>241914</td>\n",
       "      <td>97763</td>\n",
       "    </tr>\n",
       "  </tbody>\n",
       "</table>\n",
       "</div>"
      ],
      "text/plain": [
       "  start_date  member_cnt  casual_cnt\n",
       "0 2017-01-01      152934       21870\n",
       "1 2017-02-01      182281       44022\n",
       "2 2017-03-01      193219       52184\n",
       "3 2017-04-01      241750      124240\n",
       "4 2017-05-01      241914       97763"
      ]
     },
     "execution_count": 14,
     "metadata": {},
     "output_type": "execute_result"
    }
   ],
   "source": [
    "# to join these two new datasets \n",
    "df= pd.merge(member,casual, how='outer', on = \"start_date\")\n",
    "df.head()"
   ]
  },
  {
   "cell_type": "code",
   "execution_count": 15,
   "metadata": {},
   "outputs": [
    {
     "data": {
      "text/html": [
       "<div>\n",
       "<style scoped>\n",
       "    .dataframe tbody tr th:only-of-type {\n",
       "        vertical-align: middle;\n",
       "    }\n",
       "\n",
       "    .dataframe tbody tr th {\n",
       "        vertical-align: top;\n",
       "    }\n",
       "\n",
       "    .dataframe thead th {\n",
       "        text-align: right;\n",
       "    }\n",
       "</style>\n",
       "<table border=\"1\" class=\"dataframe\">\n",
       "  <thead>\n",
       "    <tr style=\"text-align: right;\">\n",
       "      <th></th>\n",
       "      <th>start_date</th>\n",
       "      <th>member_cnt</th>\n",
       "      <th>casual_cnt</th>\n",
       "      <th>total</th>\n",
       "    </tr>\n",
       "  </thead>\n",
       "  <tbody>\n",
       "    <tr>\n",
       "      <th>0</th>\n",
       "      <td>2017-01-01</td>\n",
       "      <td>152934</td>\n",
       "      <td>21870</td>\n",
       "      <td>174804</td>\n",
       "    </tr>\n",
       "    <tr>\n",
       "      <th>1</th>\n",
       "      <td>2017-02-01</td>\n",
       "      <td>182281</td>\n",
       "      <td>44022</td>\n",
       "      <td>226303</td>\n",
       "    </tr>\n",
       "    <tr>\n",
       "      <th>2</th>\n",
       "      <td>2017-03-01</td>\n",
       "      <td>193219</td>\n",
       "      <td>52184</td>\n",
       "      <td>245403</td>\n",
       "    </tr>\n",
       "    <tr>\n",
       "      <th>3</th>\n",
       "      <td>2017-04-01</td>\n",
       "      <td>241750</td>\n",
       "      <td>124240</td>\n",
       "      <td>365990</td>\n",
       "    </tr>\n",
       "    <tr>\n",
       "      <th>4</th>\n",
       "      <td>2017-05-01</td>\n",
       "      <td>241914</td>\n",
       "      <td>97763</td>\n",
       "      <td>339677</td>\n",
       "    </tr>\n",
       "  </tbody>\n",
       "</table>\n",
       "</div>"
      ],
      "text/plain": [
       "  start_date  member_cnt  casual_cnt   total\n",
       "0 2017-01-01      152934       21870  174804\n",
       "1 2017-02-01      182281       44022  226303\n",
       "2 2017-03-01      193219       52184  245403\n",
       "3 2017-04-01      241750      124240  365990\n",
       "4 2017-05-01      241914       97763  339677"
      ]
     },
     "execution_count": 15,
     "metadata": {},
     "output_type": "execute_result"
    }
   ],
   "source": [
    "#to get the total count\n",
    "df = df.assign(total = df['member_cnt'] + df['casual_cnt'])\n",
    "df.head()"
   ]
  },
  {
   "cell_type": "code",
   "execution_count": 16,
   "metadata": {},
   "outputs": [
    {
     "name": "stdout",
     "output_type": "stream",
     "text": [
      "start_date is not numeric\n"
     ]
    }
   ],
   "source": [
    "# Check for non-numeric columns\n",
    "for col in df.columns:\n",
    "    if not pd.api.types.is_numeric_dtype(df[col]):\n",
    "        print(f\"{col} is not numeric\")"
   ]
  },
  {
   "cell_type": "code",
   "execution_count": 17,
   "metadata": {},
   "outputs": [],
   "source": [
    "#have to convert each column to numeric values \n",
    "df['year'] = df['start_date'].dt.year\n",
    "df['quarter'] = df['start_date'].dt.quarter\n",
    "df['month'] = df['start_date'].dt.month\n",
    "df['day'] = df['start_date'].dt.day\n",
    "df['day_of_week'] = df['start_date'].dt.dayofweek\n",
    "df[\"weekend\"] = df['day_of_week'] > 4\n",
    "df[\"weekend\"] = df[\"weekend\"].astype(int)"
   ]
  },
  {
   "cell_type": "code",
   "execution_count": 18,
   "metadata": {},
   "outputs": [
    {
     "name": "stdout",
     "output_type": "stream",
     "text": [
      "start_date is not numeric\n"
     ]
    }
   ],
   "source": [
    "# Check for non-numeric columns\n",
    "for col in df.columns:\n",
    "    if not pd.api.types.is_numeric_dtype(df[col]):\n",
    "        print(f\"{col} is not numeric\")"
   ]
  },
  {
   "cell_type": "code",
   "execution_count": 19,
   "metadata": {},
   "outputs": [
    {
     "data": {
      "text/html": [
       "<div>\n",
       "<style scoped>\n",
       "    .dataframe tbody tr th:only-of-type {\n",
       "        vertical-align: middle;\n",
       "    }\n",
       "\n",
       "    .dataframe tbody tr th {\n",
       "        vertical-align: top;\n",
       "    }\n",
       "\n",
       "    .dataframe thead th {\n",
       "        text-align: right;\n",
       "    }\n",
       "</style>\n",
       "<table border=\"1\" class=\"dataframe\">\n",
       "  <thead>\n",
       "    <tr style=\"text-align: right;\">\n",
       "      <th></th>\n",
       "      <th>start_date</th>\n",
       "      <th>member_cnt</th>\n",
       "      <th>casual_cnt</th>\n",
       "      <th>total</th>\n",
       "      <th>year</th>\n",
       "      <th>quarter</th>\n",
       "      <th>month</th>\n",
       "      <th>day</th>\n",
       "      <th>day_of_week</th>\n",
       "      <th>weekend</th>\n",
       "    </tr>\n",
       "  </thead>\n",
       "  <tbody>\n",
       "    <tr>\n",
       "      <th>0</th>\n",
       "      <td>2017-01-01</td>\n",
       "      <td>152934</td>\n",
       "      <td>21870</td>\n",
       "      <td>174804</td>\n",
       "      <td>2017</td>\n",
       "      <td>1</td>\n",
       "      <td>1</td>\n",
       "      <td>1</td>\n",
       "      <td>6</td>\n",
       "      <td>1</td>\n",
       "    </tr>\n",
       "    <tr>\n",
       "      <th>1</th>\n",
       "      <td>2017-02-01</td>\n",
       "      <td>182281</td>\n",
       "      <td>44022</td>\n",
       "      <td>226303</td>\n",
       "      <td>2017</td>\n",
       "      <td>1</td>\n",
       "      <td>2</td>\n",
       "      <td>1</td>\n",
       "      <td>2</td>\n",
       "      <td>0</td>\n",
       "    </tr>\n",
       "    <tr>\n",
       "      <th>2</th>\n",
       "      <td>2017-03-01</td>\n",
       "      <td>193219</td>\n",
       "      <td>52184</td>\n",
       "      <td>245403</td>\n",
       "      <td>2017</td>\n",
       "      <td>1</td>\n",
       "      <td>3</td>\n",
       "      <td>1</td>\n",
       "      <td>2</td>\n",
       "      <td>0</td>\n",
       "    </tr>\n",
       "    <tr>\n",
       "      <th>3</th>\n",
       "      <td>2017-04-01</td>\n",
       "      <td>241750</td>\n",
       "      <td>124240</td>\n",
       "      <td>365990</td>\n",
       "      <td>2017</td>\n",
       "      <td>2</td>\n",
       "      <td>4</td>\n",
       "      <td>1</td>\n",
       "      <td>5</td>\n",
       "      <td>1</td>\n",
       "    </tr>\n",
       "    <tr>\n",
       "      <th>4</th>\n",
       "      <td>2017-05-01</td>\n",
       "      <td>241914</td>\n",
       "      <td>97763</td>\n",
       "      <td>339677</td>\n",
       "      <td>2017</td>\n",
       "      <td>2</td>\n",
       "      <td>5</td>\n",
       "      <td>1</td>\n",
       "      <td>0</td>\n",
       "      <td>0</td>\n",
       "    </tr>\n",
       "    <tr>\n",
       "      <th>5</th>\n",
       "      <td>2017-06-01</td>\n",
       "      <td>279723</td>\n",
       "      <td>119028</td>\n",
       "      <td>398751</td>\n",
       "      <td>2017</td>\n",
       "      <td>2</td>\n",
       "      <td>6</td>\n",
       "      <td>1</td>\n",
       "      <td>3</td>\n",
       "      <td>0</td>\n",
       "    </tr>\n",
       "    <tr>\n",
       "      <th>6</th>\n",
       "      <td>2017-07-01</td>\n",
       "      <td>258919</td>\n",
       "      <td>138761</td>\n",
       "      <td>397680</td>\n",
       "      <td>2017</td>\n",
       "      <td>3</td>\n",
       "      <td>7</td>\n",
       "      <td>1</td>\n",
       "      <td>5</td>\n",
       "      <td>1</td>\n",
       "    </tr>\n",
       "  </tbody>\n",
       "</table>\n",
       "</div>"
      ],
      "text/plain": [
       "  start_date  member_cnt  casual_cnt   total  year  quarter  month  day  \\\n",
       "0 2017-01-01      152934       21870  174804  2017        1      1    1   \n",
       "1 2017-02-01      182281       44022  226303  2017        1      2    1   \n",
       "2 2017-03-01      193219       52184  245403  2017        1      3    1   \n",
       "3 2017-04-01      241750      124240  365990  2017        2      4    1   \n",
       "4 2017-05-01      241914       97763  339677  2017        2      5    1   \n",
       "5 2017-06-01      279723      119028  398751  2017        2      6    1   \n",
       "6 2017-07-01      258919      138761  397680  2017        3      7    1   \n",
       "\n",
       "   day_of_week  weekend  \n",
       "0            6        1  \n",
       "1            2        0  \n",
       "2            2        0  \n",
       "3            5        1  \n",
       "4            0        0  \n",
       "5            3        0  \n",
       "6            5        1  "
      ]
     },
     "execution_count": 19,
     "metadata": {},
     "output_type": "execute_result"
    }
   ],
   "source": [
    "df.head(7)"
   ]
  },
  {
   "cell_type": "code",
   "execution_count": 20,
   "metadata": {},
   "outputs": [
    {
     "data": {
      "text/html": [
       "<div>\n",
       "<style scoped>\n",
       "    .dataframe tbody tr th:only-of-type {\n",
       "        vertical-align: middle;\n",
       "    }\n",
       "\n",
       "    .dataframe tbody tr th {\n",
       "        vertical-align: top;\n",
       "    }\n",
       "\n",
       "    .dataframe thead th {\n",
       "        text-align: right;\n",
       "    }\n",
       "</style>\n",
       "<table border=\"1\" class=\"dataframe\">\n",
       "  <thead>\n",
       "    <tr style=\"text-align: right;\">\n",
       "      <th></th>\n",
       "      <th>start_date</th>\n",
       "      <th>member_cnt</th>\n",
       "      <th>casual_cnt</th>\n",
       "      <th>total</th>\n",
       "      <th>year</th>\n",
       "      <th>quarter</th>\n",
       "      <th>month</th>\n",
       "      <th>day</th>\n",
       "      <th>day_of_week</th>\n",
       "      <th>weekend</th>\n",
       "    </tr>\n",
       "  </thead>\n",
       "  <tbody>\n",
       "    <tr>\n",
       "      <th>31</th>\n",
       "      <td>2019-08-01</td>\n",
       "      <td>308767</td>\n",
       "      <td>51277</td>\n",
       "      <td>360044</td>\n",
       "      <td>2019</td>\n",
       "      <td>3</td>\n",
       "      <td>8</td>\n",
       "      <td>1</td>\n",
       "      <td>3</td>\n",
       "      <td>0</td>\n",
       "    </tr>\n",
       "    <tr>\n",
       "      <th>32</th>\n",
       "      <td>2019-09-01</td>\n",
       "      <td>317246</td>\n",
       "      <td>42979</td>\n",
       "      <td>360225</td>\n",
       "      <td>2019</td>\n",
       "      <td>3</td>\n",
       "      <td>9</td>\n",
       "      <td>1</td>\n",
       "      <td>6</td>\n",
       "      <td>1</td>\n",
       "    </tr>\n",
       "    <tr>\n",
       "      <th>33</th>\n",
       "      <td>2019-10-01</td>\n",
       "      <td>303048</td>\n",
       "      <td>34504</td>\n",
       "      <td>337552</td>\n",
       "      <td>2019</td>\n",
       "      <td>4</td>\n",
       "      <td>10</td>\n",
       "      <td>1</td>\n",
       "      <td>1</td>\n",
       "      <td>0</td>\n",
       "    </tr>\n",
       "    <tr>\n",
       "      <th>34</th>\n",
       "      <td>2019-11-01</td>\n",
       "      <td>206459</td>\n",
       "      <td>17053</td>\n",
       "      <td>223512</td>\n",
       "      <td>2019</td>\n",
       "      <td>4</td>\n",
       "      <td>11</td>\n",
       "      <td>1</td>\n",
       "      <td>4</td>\n",
       "      <td>0</td>\n",
       "    </tr>\n",
       "    <tr>\n",
       "      <th>35</th>\n",
       "      <td>2019-12-01</td>\n",
       "      <td>150839</td>\n",
       "      <td>11039</td>\n",
       "      <td>161878</td>\n",
       "      <td>2019</td>\n",
       "      <td>4</td>\n",
       "      <td>12</td>\n",
       "      <td>1</td>\n",
       "      <td>6</td>\n",
       "      <td>1</td>\n",
       "    </tr>\n",
       "  </tbody>\n",
       "</table>\n",
       "</div>"
      ],
      "text/plain": [
       "   start_date  member_cnt  casual_cnt   total  year  quarter  month  day  \\\n",
       "31 2019-08-01      308767       51277  360044  2019        3      8    1   \n",
       "32 2019-09-01      317246       42979  360225  2019        3      9    1   \n",
       "33 2019-10-01      303048       34504  337552  2019        4     10    1   \n",
       "34 2019-11-01      206459       17053  223512  2019        4     11    1   \n",
       "35 2019-12-01      150839       11039  161878  2019        4     12    1   \n",
       "\n",
       "    day_of_week  weekend  \n",
       "31            3        0  \n",
       "32            6        1  \n",
       "33            1        0  \n",
       "34            4        0  \n",
       "35            6        1  "
      ]
     },
     "execution_count": 20,
     "metadata": {},
     "output_type": "execute_result"
    }
   ],
   "source": [
    "df.tail()"
   ]
  },
  {
   "cell_type": "code",
   "execution_count": 21,
   "metadata": {},
   "outputs": [
    {
     "data": {
      "text/html": [
       "<div>\n",
       "<style scoped>\n",
       "    .dataframe tbody tr th:only-of-type {\n",
       "        vertical-align: middle;\n",
       "    }\n",
       "\n",
       "    .dataframe tbody tr th {\n",
       "        vertical-align: top;\n",
       "    }\n",
       "\n",
       "    .dataframe thead th {\n",
       "        text-align: right;\n",
       "    }\n",
       "</style>\n",
       "<table border=\"1\" class=\"dataframe\">\n",
       "  <thead>\n",
       "    <tr style=\"text-align: right;\">\n",
       "      <th></th>\n",
       "      <th>year</th>\n",
       "      <th>quarter</th>\n",
       "      <th>month</th>\n",
       "      <th>day_of_week</th>\n",
       "      <th>weekend</th>\n",
       "      <th>total</th>\n",
       "    </tr>\n",
       "  </thead>\n",
       "  <tbody>\n",
       "    <tr>\n",
       "      <th>0</th>\n",
       "      <td>2017</td>\n",
       "      <td>1</td>\n",
       "      <td>1</td>\n",
       "      <td>6</td>\n",
       "      <td>1</td>\n",
       "      <td>174804</td>\n",
       "    </tr>\n",
       "    <tr>\n",
       "      <th>1</th>\n",
       "      <td>2017</td>\n",
       "      <td>1</td>\n",
       "      <td>2</td>\n",
       "      <td>2</td>\n",
       "      <td>0</td>\n",
       "      <td>226303</td>\n",
       "    </tr>\n",
       "    <tr>\n",
       "      <th>2</th>\n",
       "      <td>2017</td>\n",
       "      <td>1</td>\n",
       "      <td>3</td>\n",
       "      <td>2</td>\n",
       "      <td>0</td>\n",
       "      <td>245403</td>\n",
       "    </tr>\n",
       "    <tr>\n",
       "      <th>3</th>\n",
       "      <td>2017</td>\n",
       "      <td>2</td>\n",
       "      <td>4</td>\n",
       "      <td>5</td>\n",
       "      <td>1</td>\n",
       "      <td>365990</td>\n",
       "    </tr>\n",
       "    <tr>\n",
       "      <th>4</th>\n",
       "      <td>2017</td>\n",
       "      <td>2</td>\n",
       "      <td>5</td>\n",
       "      <td>0</td>\n",
       "      <td>0</td>\n",
       "      <td>339677</td>\n",
       "    </tr>\n",
       "  </tbody>\n",
       "</table>\n",
       "</div>"
      ],
      "text/plain": [
       "   year  quarter  month  day_of_week  weekend   total\n",
       "0  2017        1      1            6        1  174804\n",
       "1  2017        1      2            2        0  226303\n",
       "2  2017        1      3            2        0  245403\n",
       "3  2017        2      4            5        1  365990\n",
       "4  2017        2      5            0        0  339677"
      ]
     },
     "execution_count": 21,
     "metadata": {},
     "output_type": "execute_result"
    }
   ],
   "source": [
    "#we don't need start_date column anymore \n",
    "df = df[['year', 'quarter', 'month', 'day_of_week', 'weekend', 'total' ]]\n",
    "df.head()"
   ]
  },
  {
   "cell_type": "code",
   "execution_count": 22,
   "metadata": {},
   "outputs": [],
   "source": [
    "#to get seasons from months \n",
    "\n",
    "#a function to map month numbers to seasons\n",
    "def get_season(month):\n",
    "    if month in [12, 1, 2]:\n",
    "        return 1\n",
    "    elif month in [3, 4, 5]:\n",
    "        return 2\n",
    "    elif month in [6, 7, 8]:\n",
    "        return 3\n",
    "    else:\n",
    "        return 4\n",
    "\n",
    "# Create a new categorical column called \"seasons\"\n",
    "df['season'] = df['month'].apply(get_season).astype(int)"
   ]
  },
  {
   "cell_type": "code",
   "execution_count": 23,
   "metadata": {},
   "outputs": [
    {
     "data": {
      "text/html": [
       "<div>\n",
       "<style scoped>\n",
       "    .dataframe tbody tr th:only-of-type {\n",
       "        vertical-align: middle;\n",
       "    }\n",
       "\n",
       "    .dataframe tbody tr th {\n",
       "        vertical-align: top;\n",
       "    }\n",
       "\n",
       "    .dataframe thead th {\n",
       "        text-align: right;\n",
       "    }\n",
       "</style>\n",
       "<table border=\"1\" class=\"dataframe\">\n",
       "  <thead>\n",
       "    <tr style=\"text-align: right;\">\n",
       "      <th></th>\n",
       "      <th>year</th>\n",
       "      <th>quarter</th>\n",
       "      <th>month</th>\n",
       "      <th>day_of_week</th>\n",
       "      <th>weekend</th>\n",
       "      <th>total</th>\n",
       "      <th>season</th>\n",
       "    </tr>\n",
       "  </thead>\n",
       "  <tbody>\n",
       "    <tr>\n",
       "      <th>0</th>\n",
       "      <td>2017</td>\n",
       "      <td>1</td>\n",
       "      <td>1</td>\n",
       "      <td>6</td>\n",
       "      <td>1</td>\n",
       "      <td>174804</td>\n",
       "      <td>1</td>\n",
       "    </tr>\n",
       "    <tr>\n",
       "      <th>1</th>\n",
       "      <td>2017</td>\n",
       "      <td>1</td>\n",
       "      <td>2</td>\n",
       "      <td>2</td>\n",
       "      <td>0</td>\n",
       "      <td>226303</td>\n",
       "      <td>1</td>\n",
       "    </tr>\n",
       "    <tr>\n",
       "      <th>2</th>\n",
       "      <td>2017</td>\n",
       "      <td>1</td>\n",
       "      <td>3</td>\n",
       "      <td>2</td>\n",
       "      <td>0</td>\n",
       "      <td>245403</td>\n",
       "      <td>2</td>\n",
       "    </tr>\n",
       "    <tr>\n",
       "      <th>3</th>\n",
       "      <td>2017</td>\n",
       "      <td>2</td>\n",
       "      <td>4</td>\n",
       "      <td>5</td>\n",
       "      <td>1</td>\n",
       "      <td>365990</td>\n",
       "      <td>2</td>\n",
       "    </tr>\n",
       "    <tr>\n",
       "      <th>4</th>\n",
       "      <td>2017</td>\n",
       "      <td>2</td>\n",
       "      <td>5</td>\n",
       "      <td>0</td>\n",
       "      <td>0</td>\n",
       "      <td>339677</td>\n",
       "      <td>2</td>\n",
       "    </tr>\n",
       "  </tbody>\n",
       "</table>\n",
       "</div>"
      ],
      "text/plain": [
       "   year  quarter  month  day_of_week  weekend   total  season\n",
       "0  2017        1      1            6        1  174804       1\n",
       "1  2017        1      2            2        0  226303       1\n",
       "2  2017        1      3            2        0  245403       2\n",
       "3  2017        2      4            5        1  365990       2\n",
       "4  2017        2      5            0        0  339677       2"
      ]
     },
     "execution_count": 23,
     "metadata": {},
     "output_type": "execute_result"
    }
   ],
   "source": [
    "df.head()"
   ]
  },
  {
   "cell_type": "code",
   "execution_count": 24,
   "metadata": {},
   "outputs": [
    {
     "data": {
      "text/html": [
       "<div>\n",
       "<style scoped>\n",
       "    .dataframe tbody tr th:only-of-type {\n",
       "        vertical-align: middle;\n",
       "    }\n",
       "\n",
       "    .dataframe tbody tr th {\n",
       "        vertical-align: top;\n",
       "    }\n",
       "\n",
       "    .dataframe thead th {\n",
       "        text-align: right;\n",
       "    }\n",
       "</style>\n",
       "<table border=\"1\" class=\"dataframe\">\n",
       "  <thead>\n",
       "    <tr style=\"text-align: right;\">\n",
       "      <th></th>\n",
       "      <th>year</th>\n",
       "      <th>quarter</th>\n",
       "      <th>month</th>\n",
       "      <th>day_of_week</th>\n",
       "      <th>weekend</th>\n",
       "      <th>total</th>\n",
       "      <th>season</th>\n",
       "    </tr>\n",
       "  </thead>\n",
       "  <tbody>\n",
       "    <tr>\n",
       "      <th>31</th>\n",
       "      <td>2019</td>\n",
       "      <td>3</td>\n",
       "      <td>8</td>\n",
       "      <td>3</td>\n",
       "      <td>0</td>\n",
       "      <td>360044</td>\n",
       "      <td>3</td>\n",
       "    </tr>\n",
       "    <tr>\n",
       "      <th>32</th>\n",
       "      <td>2019</td>\n",
       "      <td>3</td>\n",
       "      <td>9</td>\n",
       "      <td>6</td>\n",
       "      <td>1</td>\n",
       "      <td>360225</td>\n",
       "      <td>4</td>\n",
       "    </tr>\n",
       "    <tr>\n",
       "      <th>33</th>\n",
       "      <td>2019</td>\n",
       "      <td>4</td>\n",
       "      <td>10</td>\n",
       "      <td>1</td>\n",
       "      <td>0</td>\n",
       "      <td>337552</td>\n",
       "      <td>4</td>\n",
       "    </tr>\n",
       "    <tr>\n",
       "      <th>34</th>\n",
       "      <td>2019</td>\n",
       "      <td>4</td>\n",
       "      <td>11</td>\n",
       "      <td>4</td>\n",
       "      <td>0</td>\n",
       "      <td>223512</td>\n",
       "      <td>4</td>\n",
       "    </tr>\n",
       "    <tr>\n",
       "      <th>35</th>\n",
       "      <td>2019</td>\n",
       "      <td>4</td>\n",
       "      <td>12</td>\n",
       "      <td>6</td>\n",
       "      <td>1</td>\n",
       "      <td>161878</td>\n",
       "      <td>1</td>\n",
       "    </tr>\n",
       "  </tbody>\n",
       "</table>\n",
       "</div>"
      ],
      "text/plain": [
       "    year  quarter  month  day_of_week  weekend   total  season\n",
       "31  2019        3      8            3        0  360044       3\n",
       "32  2019        3      9            6        1  360225       4\n",
       "33  2019        4     10            1        0  337552       4\n",
       "34  2019        4     11            4        0  223512       4\n",
       "35  2019        4     12            6        1  161878       1"
      ]
     },
     "execution_count": 24,
     "metadata": {},
     "output_type": "execute_result"
    }
   ],
   "source": [
    "df.tail()"
   ]
  },
  {
   "cell_type": "code",
   "execution_count": 25,
   "metadata": {},
   "outputs": [
    {
     "data": {
      "image/png": "[encoded data removed]",
      "text/plain": [
       "<Figure size 1200x1000 with 7 Axes>"
      ]
     },
     "metadata": {},
     "output_type": "display_data"
    }
   ],
   "source": [
    "#to check for outliers \n",
    "\n",
    "fig = plt.figure(figsize=(12,10))\n",
    "count = 0\n",
    "for i in range(4):\n",
    "    for j in range(2):\n",
    "        if count == 7:\n",
    "            break\n",
    "        plt.subplot2grid((5,3),(i,j))\n",
    "        plt.boxplot(df[df.columns[count]])\n",
    "        plt.xlabel(df.columns[count])\n",
    "        plt.tight_layout(pad=2)\n",
    "        count += 1\n"
   ]
  },
  {
   "cell_type": "code",
   "execution_count": 26,
   "metadata": {},
   "outputs": [
    {
     "name": "stderr",
     "output_type": "stream",
     "text": [
      "C:\\Users\\Fariha\\AppData\\Local\\Temp\\ipykernel_9764\\3058146780.py:3: DeprecationWarning: `np.bool` is a deprecated alias for the builtin `bool`. To silence this warning, use `bool` by itself. Doing this will not modify any behavior and is safe. If you specifically wanted the numpy scalar type, use `np.bool_` here.\n",
      "Deprecated in NumPy 1.20; for more details and guidance: https://numpy.org/devdocs/release/1.20.0-notes.html#deprecations\n",
      "  mask = np.triu(np.ones_like(cor, dtype=np.bool))\n"
     ]
    },
    {
     "data": {
      "text/plain": [
       "<AxesSubplot:>"
      ]
     },
     "execution_count": 26,
     "metadata": {},
     "output_type": "execute_result"
    },
    {
     "data": {
      "image/png": "[encoded data removed]",
      "text/plain": [
       "<Figure size 1200x600 with 2 Axes>"
      ]
     },
     "metadata": {},
     "output_type": "display_data"
    }
   ],
   "source": [
    "#check for high correlations \n",
    "cor=df.corr()\n",
    "mask = np.triu(np.ones_like(cor, dtype=np.bool))\n",
    "fig=plt.figure(figsize=(12,6))\n",
    "sns.heatmap(cor,cmap='Spectral', mask=mask , annot=True)"
   ]
  },
  {
   "attachments": {},
   "cell_type": "markdown",
   "metadata": {},
   "source": [
    "there is a high correlation between quarter and month "
   ]
  },
  {
   "cell_type": "code",
   "execution_count": 27,
   "metadata": {},
   "outputs": [
    {
     "data": {
      "text/html": [
       "<div>\n",
       "<style scoped>\n",
       "    .dataframe tbody tr th:only-of-type {\n",
       "        vertical-align: middle;\n",
       "    }\n",
       "\n",
       "    .dataframe tbody tr th {\n",
       "        vertical-align: top;\n",
       "    }\n",
       "\n",
       "    .dataframe thead th {\n",
       "        text-align: right;\n",
       "    }\n",
       "</style>\n",
       "<table border=\"1\" class=\"dataframe\">\n",
       "  <thead>\n",
       "    <tr style=\"text-align: right;\">\n",
       "      <th></th>\n",
       "      <th>year</th>\n",
       "      <th>season</th>\n",
       "      <th>month</th>\n",
       "      <th>total</th>\n",
       "    </tr>\n",
       "  </thead>\n",
       "  <tbody>\n",
       "    <tr>\n",
       "      <th>0</th>\n",
       "      <td>2017</td>\n",
       "      <td>1</td>\n",
       "      <td>1</td>\n",
       "      <td>174804</td>\n",
       "    </tr>\n",
       "    <tr>\n",
       "      <th>1</th>\n",
       "      <td>2017</td>\n",
       "      <td>1</td>\n",
       "      <td>2</td>\n",
       "      <td>226303</td>\n",
       "    </tr>\n",
       "    <tr>\n",
       "      <th>2</th>\n",
       "      <td>2017</td>\n",
       "      <td>2</td>\n",
       "      <td>3</td>\n",
       "      <td>245403</td>\n",
       "    </tr>\n",
       "    <tr>\n",
       "      <th>3</th>\n",
       "      <td>2017</td>\n",
       "      <td>2</td>\n",
       "      <td>4</td>\n",
       "      <td>365990</td>\n",
       "    </tr>\n",
       "    <tr>\n",
       "      <th>4</th>\n",
       "      <td>2017</td>\n",
       "      <td>2</td>\n",
       "      <td>5</td>\n",
       "      <td>339677</td>\n",
       "    </tr>\n",
       "  </tbody>\n",
       "</table>\n",
       "</div>"
      ],
      "text/plain": [
       "   year  season  month   total\n",
       "0  2017       1      1  174804\n",
       "1  2017       1      2  226303\n",
       "2  2017       2      3  245403\n",
       "3  2017       2      4  365990\n",
       "4  2017       2      5  339677"
      ]
     },
     "execution_count": 27,
     "metadata": {},
     "output_type": "execute_result"
    }
   ],
   "source": [
    "#to get the final \n",
    "df = df[['year', 'season', 'month', 'total' ]]\n",
    "df.head()"
   ]
  },
  {
   "attachments": {},
   "cell_type": "markdown",
   "metadata": {},
   "source": [
    "step 2: machine learning "
   ]
  },
  {
   "cell_type": "code",
   "execution_count": 28,
   "metadata": {},
   "outputs": [
    {
     "name": "stdout",
     "output_type": "stream",
     "text": [
      "Training set shape: (24, 4)\n",
      "Testing set shape: (12, 4)\n"
     ]
    }
   ],
   "source": [
    "# Split the data into training and testing sets based on the year\n",
    "train_data = df.loc[df['year'] < 2019]\n",
    "test_data = df.loc[df['year'] == 2019]\n",
    "\n",
    "# Verify the shape of the training and testing sets\n",
    "print('Training set shape:', train_data.shape)\n",
    "print('Testing set shape:', test_data.shape)"
   ]
  },
  {
   "cell_type": "code",
   "execution_count": 29,
   "metadata": {},
   "outputs": [],
   "source": [
    "# Define the features and target variable for the linear regression model\n",
    "X_train = train_data.drop(['total'], axis=1)\n",
    "y_train = train_data['total']\n",
    "X_test = test_data.drop(['total'], axis=1)\n",
    "y_test = test_data['total']"
   ]
  },
  {
   "cell_type": "code",
   "execution_count": 30,
   "metadata": {},
   "outputs": [],
   "source": [
    "# min-max scaling, which scales the features to a fixed range (usually between 0 and 1)\n",
    "from sklearn.preprocessing import MinMaxScaler\n",
    "\n",
    "# Create a MinMaxScaler object\n",
    "scaler = MinMaxScaler()\n",
    "\n",
    "# Fit the scaler on the training data\n",
    "scaler.fit(X_train)\n",
    "\n",
    "# Scale the training and testing data\n",
    "X_train_scaled = scaler.transform(X_train)\n",
    "X_test_scaled = scaler.transform(X_test)\n"
   ]
  },
  {
   "attachments": {},
   "cell_type": "markdown",
   "metadata": {},
   "source": [
    "1. Liner Regression Model"
   ]
  },
  {
   "cell_type": "code",
   "execution_count": 31,
   "metadata": {},
   "outputs": [
    {
     "name": "stdout",
     "output_type": "stream",
     "text": [
      "Mean Squared Error (Linear Regression): 3730338097.4166074\n",
      "Accuracy of the model is 46.81\n"
     ]
    }
   ],
   "source": [
    "#import\n",
    "from sklearn.metrics import r2_score\n",
    "from sklearn.linear_model import LinearRegression\n",
    "from sklearn.metrics import mean_squared_error\n",
    "\n",
    "# Train a linear regression model\n",
    "lr_model = LinearRegression()\n",
    "lr_model.fit(X_train_scaled, y_train)\n",
    "\n",
    "# Predict the bike rental demand on the test set\n",
    "y_pred = lr_model.predict(X_test_scaled)\n",
    "\n",
    "# Evaluate the performance of the model using mean squared error\n",
    "mse = mean_squared_error(y_test, y_pred)\n",
    "print('Mean Squared Error (Linear Regression):', mse)\n",
    "# evaluate with r2_score\n",
    "Accuracy = r2_score(y_test, y_pred)*100\n",
    "print(\"Accuracy of the model is %.2f\" %Accuracy)"
   ]
  },
  {
   "attachments": {},
   "cell_type": "markdown",
   "metadata": {},
   "source": [
    "2. Decession Tree Regressor"
   ]
  },
  {
   "cell_type": "code",
   "execution_count": 32,
   "metadata": {},
   "outputs": [
    {
     "name": "stdout",
     "output_type": "stream",
     "text": [
      "Mean Squared Error (Decision Tree Regression): 874992733.5\n",
      "Accuracy of the model is 87.52\n"
     ]
    }
   ],
   "source": [
    "from sklearn.tree import DecisionTreeRegressor\n",
    "# Train a decision tree regression model\n",
    "dt_model = DecisionTreeRegressor()\n",
    "dt_model.fit(X_train_scaled, y_train)\n",
    "\n",
    "# Predict the bike rental demand on the test set\n",
    "y_pred = dt_model.predict(X_test_scaled)\n",
    "\n",
    "# Evaluate the performance of the model using mean squared error\n",
    "mse = mean_squared_error(y_test, y_pred)\n",
    "print('Mean Squared Error (Decision Tree Regression):', mse)\n",
    "# evaluate with r2_score\n",
    "Accuracy = r2_score(y_test, y_pred)*100\n",
    "print(\"Accuracy of the model is %.2f\" %Accuracy)"
   ]
  },
  {
   "attachments": {},
   "cell_type": "markdown",
   "metadata": {},
   "source": [
    "3. Random Forest Regressor Model"
   ]
  },
  {
   "cell_type": "code",
   "execution_count": 33,
   "metadata": {},
   "outputs": [
    {
     "name": "stdout",
     "output_type": "stream",
     "text": [
      "Random Forest Regression Testing MSE:  681021621.318575\n",
      "Accuracy of the model is 90.29\n"
     ]
    }
   ],
   "source": [
    "from sklearn.ensemble import RandomForestRegressor\n",
    "\n",
    "# Create a Random Forest Regression model\n",
    "rf_model = RandomForestRegressor()\n",
    "\n",
    "# train the model\n",
    "rf_model.fit(X_train, y_train)\n",
    "y_pred = rf_model.predict(X_test)\n",
    "\n",
    "# Calculate the Mean Squared Error on the testing set\n",
    "rf_mse = mean_squared_error(y_test, y_pred)\n",
    "print(\"Random Forest Regression Testing MSE: \", rf_mse)\n",
    "# evaluate with r2_score\n",
    "Accuracy = r2_score(y_test, y_pred)*100\n",
    "print(\"Accuracy of the model is %.2f\" %Accuracy)"
   ]
  },
  {
   "cell_type": "code",
   "execution_count": 34,
   "metadata": {},
   "outputs": [
    {
     "data": {
      "image/png": "[encoded data removed]",
      "text/plain": [
       "<Figure size 1200x600 with 1 Axes>"
      ]
     },
     "metadata": {},
     "output_type": "display_data"
    }
   ],
   "source": [
    "fig, ax = plt.subplots(figsize=(12, 6))\n",
    "\n",
    "# Create a DataFrame for the predicted values\n",
    "y_pred_df = pd.DataFrame({'Prediction': y_pred}, index=y_test.index)\n",
    "\n",
    "# Plot the training, testing, and predicted values\n",
    "y_train.plot(ax=ax, label='Train', color='blue')\n",
    "y_test.plot(ax=ax, label='Test', color='green')\n",
    "y_pred_df.plot(ax=ax, label='Predictions', color='red', alpha=0.7)\n",
    "\n",
    "# Add a title and axis labels\n",
    "ax.set_title('Actual vs. Predicted Values')\n",
    "ax.set_xlabel('Time')\n",
    "ax.set_ylabel('Value')\n",
    "\n",
    "# Add grid lines\n",
    "ax.grid(True)\n",
    "\n",
    "# Add a legend\n",
    "ax.legend()\n",
    "\n",
    "plt.show()\n"
   ]
  },
  {
   "attachments": {},
   "cell_type": "markdown",
   "metadata": {},
   "source": [
    "4. Support Vectore Model"
   ]
  },
  {
   "cell_type": "code",
   "execution_count": 35,
   "metadata": {},
   "outputs": [
    {
     "name": "stdout",
     "output_type": "stream",
     "text": [
      "Support Vector Regression Testing MSE:  9623438080.795061\n",
      "Accuracy:  -37.21745244924026\n"
     ]
    }
   ],
   "source": [
    "from sklearn.svm import SVR\n",
    "# Support Vector Regression\n",
    "svr_model = SVR()\n",
    "svr_model.fit(X_train_scaled, y_train)\n",
    "y_pred = svr_model.predict(X_test_scaled)\n",
    "svr_mse = mean_squared_error(y_test, y_pred)\n",
    "print(\"Support Vector Regression Testing MSE: \", svr_mse)\n",
    "svr_accuracy = r2_score(y_test, y_pred)*100\n",
    "print(\"Accuracy: \", svr_accuracy)"
   ]
  },
  {
   "attachments": {},
   "cell_type": "markdown",
   "metadata": {},
   "source": [
    "5. Gradient Boosting Regression"
   ]
  },
  {
   "cell_type": "code",
   "execution_count": 36,
   "metadata": {},
   "outputs": [
    {
     "name": "stdout",
     "output_type": "stream",
     "text": [
      "Gradient Boosting Regression Testing MSE:  794106903.824601\n",
      "Accuracy:  88.67708968454617\n"
     ]
    }
   ],
   "source": [
    "from sklearn.ensemble import GradientBoostingRegressor\n",
    "\n",
    "gbr_model = GradientBoostingRegressor()\n",
    "gbr_model.fit(X_train_scaled, y_train)\n",
    "y_pred = gbr_model.predict(X_test_scaled)\n",
    "gbr_mse = mean_squared_error(y_test, y_pred)\n",
    "print(\"Gradient Boosting Regression Testing MSE: \", gbr_mse)\n",
    "gbr_accuracy = r2_score(y_test, y_pred)*100\n",
    "print(\"Accuracy: \", gbr_accuracy)"
   ]
  },
  {
   "attachments": {},
   "cell_type": "markdown",
   "metadata": {},
   "source": [
    "We have found that Random Forest Model with 90% accuracy is our best model, now we can use the model to predict 2020."
   ]
  }
 ],
 "metadata": {
  "kernelspec": {
   "display_name": "Python 3.6 (tensorflow)",
   "language": "python",
   "name": "tensorflow"
  },
  "language_info": {
   "codemirror_mode": {
    "name": "ipython",
    "version": 3
   },
   "file_extension": ".py",
   "mimetype": "text/x-python",
   "name": "python",
   "nbconvert_exporter": "python",
   "pygments_lexer": "ipython3",
   "version": "3.6.8"
  },
  "orig_nbformat": 4,
  "vscode": {
   "interpreter": {
    "hash": "7fd1544c5310e8ab3f29f52a85c19bdae2f069a7a89750259ffaf54f7dbe60c6"
   }
  }
 },
 "nbformat": 4,
 "nbformat_minor": 2
}
